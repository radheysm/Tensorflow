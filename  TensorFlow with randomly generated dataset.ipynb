{
 "cells": [
  {
   "cell_type": "markdown",
   "metadata": {},
   "source": [
    "# TensorFlow "
   ]
  },
  {
   "cell_type": "markdown",
   "metadata": {},
   "source": [
    "# import the relevant libararies"
   ]
  },
  {
   "cell_type": "code",
   "execution_count": 39,
   "metadata": {},
   "outputs": [],
   "source": [
    "import numpy as np\n",
    "import tensorflow as tf\n",
    "import matplotlib.pyplot as plt"
   ]
  },
  {
   "cell_type": "markdown",
   "metadata": {},
   "source": [
    "# Generate the random dataset"
   ]
  },
  {
   "cell_type": "code",
   "execution_count": 40,
   "metadata": {},
   "outputs": [],
   "source": [
    "observations = 1000;\n",
    "xs = np.random.uniform(low=-10, high=10, size=(observations,1))\n",
    "zs = np.random.uniform(-10,10,(observations,1))\n",
    "\n",
    "generated_inputs = np.column_stack((xs,zs))\n",
    "noise = np.random.uniform(-1,1,(observations,1))\n",
    "\n",
    "generated_targets = 2*xs - 3*zs + 5 +noise\n",
    "\n",
    "np.savez('TF_intro', inputs=generated_inputs,targets=generated_targets)"
   ]
  },
  {
   "cell_type": "code",
   "execution_count": 41,
   "metadata": {},
   "outputs": [],
   "source": [
    "input_size = 2\n",
    "output_size = 1\n",
    "import tensorflow.compat.v1 as tf\n",
    "tf.disable_v2_behavior()"
   ]
  },
  {
   "cell_type": "markdown",
   "metadata": {},
   "source": [
    "# Declare the input and target variables"
   ]
  },
  {
   "cell_type": "code",
   "execution_count": 42,
   "metadata": {},
   "outputs": [],
   "source": [
    "inputs = tf.placeholder(tf.float32,[None, input_size])\n",
    "targets = tf.placeholder(tf.float32,[None, output_size])"
   ]
  },
  {
   "cell_type": "markdown",
   "metadata": {},
   "source": [
    "# Generate the weights and biases values"
   ]
  },
  {
   "cell_type": "code",
   "execution_count": 43,
   "metadata": {},
   "outputs": [],
   "source": [
    "weights = tf.Variable(tf.random_uniform([input_size,output_size], minval = -0.1, maxval=0.1))\n",
    "biases = tf.Variable(tf.random_uniform([output_size], minval = -0.1, maxval=0.1))\n"
   ]
  },
  {
   "cell_type": "markdown",
   "metadata": {},
   "source": [
    "# Outlining the Model"
   ]
  },
  {
   "cell_type": "code",
   "execution_count": 44,
   "metadata": {},
   "outputs": [],
   "source": [
    "outputs = tf.matmul(inputs,weights)+biases"
   ]
  },
  {
   "cell_type": "markdown",
   "metadata": {},
   "source": [
    "# Chossing the objective function and the optimization method"
   ]
  },
  {
   "cell_type": "code",
   "execution_count": 45,
   "metadata": {},
   "outputs": [],
   "source": [
    "mean_loss = tf.losses.mean_squared_error(labels=targets,predictions=outputs)/2\n",
    "\n",
    "optimize = tf.train.GradientDescentOptimizer(learning_rate=0.05).minimize(mean_loss)\n",
    "\n"
   ]
  },
  {
   "cell_type": "markdown",
   "metadata": {},
   "source": [
    "# Prepare for execution"
   ]
  },
  {
   "cell_type": "code",
   "execution_count": 46,
   "metadata": {},
   "outputs": [],
   "source": [
    "sess = tf.InteractiveSession()"
   ]
  },
  {
   "cell_type": "markdown",
   "metadata": {},
   "source": [
    "# Initialize Variables"
   ]
  },
  {
   "cell_type": "code",
   "execution_count": 47,
   "metadata": {},
   "outputs": [],
   "source": [
    "initializer = tf.global_variables_initializer()\n",
    "sess.run(initializer)"
   ]
  },
  {
   "cell_type": "markdown",
   "metadata": {},
   "source": [
    "# Loading Training data"
   ]
  },
  {
   "cell_type": "code",
   "execution_count": 48,
   "metadata": {},
   "outputs": [],
   "source": [
    "training_data = np.load('TF_intro.npz')"
   ]
  },
  {
   "cell_type": "code",
   "execution_count": 49,
   "metadata": {},
   "outputs": [
    {
     "data": {
      "text/plain": [
       "<numpy.lib.npyio.NpzFile at 0x7fe6d86bd250>"
      ]
     },
     "execution_count": 49,
     "metadata": {},
     "output_type": "execute_result"
    }
   ],
   "source": [
    "training_data"
   ]
  },
  {
   "cell_type": "markdown",
   "metadata": {},
   "source": [
    "# Learning"
   ]
  },
  {
   "cell_type": "code",
   "execution_count": 50,
   "metadata": {},
   "outputs": [
    {
     "name": "stdout",
     "output_type": "stream",
     "text": [
      "244.03528\n",
      "171.247\n",
      "123.67995\n",
      "90.68055\n",
      "67.11702\n",
      "50.05646\n",
      "37.612446\n",
      "28.490849\n",
      "21.775934\n",
      "16.810692\n",
      "13.12077\n",
      "10.362652\n",
      "8.287109\n",
      "6.7131014\n",
      "5.5089283\n",
      "4.5786543\n",
      "3.8522656\n",
      "3.2785604\n",
      "2.819996\n",
      "2.448962\n",
      "2.1450725\n",
      "1.8932102\n",
      "1.6821023\n",
      "1.5032935\n",
      "1.3503904\n",
      "1.2185222\n",
      "1.1039417\n",
      "1.003737\n",
      "0.9156182\n",
      "0.8377663\n",
      "0.7687158\n",
      "0.70727307\n",
      "0.6524535\n",
      "0.6034363\n",
      "0.55952895\n",
      "0.52014077\n",
      "0.48476523\n",
      "0.45296374\n",
      "0.42435205\n",
      "0.3985948\n",
      "0.3753957\n",
      "0.35449177\n",
      "0.33565027\n",
      "0.31866294\n",
      "0.30334428\n",
      "0.28952816\n",
      "0.27706525\n",
      "0.26582202\n",
      "0.255678\n",
      "0.2465256\n",
      "0.23826693\n",
      "0.23081447\n",
      "0.2240892\n",
      "0.21802026\n",
      "0.21254338\n",
      "0.20760037\n",
      "0.2031397\n",
      "0.19911395\n",
      "0.19548054\n",
      "0.19220139\n",
      "0.189242\n",
      "0.18657102\n",
      "0.18416044\n",
      "0.18198475\n",
      "0.18002123\n",
      "0.17824915\n",
      "0.17664966\n",
      "0.17520614\n",
      "0.17390327\n",
      "0.17272736\n",
      "0.17166607\n",
      "0.1707083\n",
      "0.1698438\n",
      "0.1690636\n",
      "0.16835937\n",
      "0.16772385\n",
      "0.16715033\n",
      "0.16663252\n",
      "0.16616532\n",
      "0.16574363\n",
      "0.16536313\n",
      "0.16501954\n",
      "0.16470958\n",
      "0.16442975\n",
      "0.16417718\n",
      "0.16394928\n",
      "0.16374356\n",
      "0.16355792\n",
      "0.16339035\n",
      "0.16323905\n",
      "0.16310263\n",
      "0.16297947\n",
      "0.16286826\n",
      "0.1627679\n",
      "0.16267732\n",
      "0.16259564\n",
      "0.16252182\n",
      "0.16245523\n",
      "0.16239512\n",
      "0.16234091\n"
     ]
    }
   ],
   "source": [
    "for e in range(100):\n",
    "    _, curr_loss = sess.run([optimize, mean_loss],\n",
    "                            feed_dict={inputs:training_data['inputs'], targets:training_data['targets']})\n",
    "    print(curr_loss)"
   ]
  },
  {
   "cell_type": "markdown",
   "metadata": {},
   "source": [
    "# Ploting the data"
   ]
  },
  {
   "cell_type": "code",
   "execution_count": 52,
   "metadata": {},
   "outputs": [
    {
     "data": {
      "image/png": "[encoded data removed]",
      "text/plain": [
       "<Figure size 432x288 with 1 Axes>"
      ]
     },
     "metadata": {
      "needs_background": "light"
     },
     "output_type": "display_data"
    }
   ],
   "source": [
    "out = sess.run([outputs],feed_dict={inputs: training_data['inputs']})\n",
    "plt.plot(np.squeeze(out), np.squeeze(training_data['targets']))\n",
    "plt.show()"
   ]
  },
  {
   "cell_type": "code",
   "execution_count": null,
   "metadata": {},
   "outputs": [],
   "source": []
  }
 ],
 "metadata": {
  "kernelspec": {
   "display_name": "Python 3",
   "language": "python",
   "name": "python3"
  },
  "language_info": {
   "codemirror_mode": {
    "name": "ipython",
    "version": 3
   },
   "file_extension": ".py",
   "mimetype": "text/x-python",
   "name": "python",
   "nbconvert_exporter": "python",
   "pygments_lexer": "ipython3",
   "version": "3.7.6"
  }
 },
 "nbformat": 4,
 "nbformat_minor": 2
}
